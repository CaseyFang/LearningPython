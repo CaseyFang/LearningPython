{
 "cells": [
  {
   "cell_type": "code",
   "execution_count": 3,
   "metadata": {},
   "outputs": [],
   "source": [
    "class Person:\n",
    "    department = 'School of Information'\n",
    "    \n",
    "    def set_name(self, new_name):\n",
    "        self.name = new_name\n",
    "    def set_location(self, new_location):\n",
    "        self.location = new_location"
   ]
  },
  {
   "cell_type": "code",
   "execution_count": 9,
   "metadata": {},
   "outputs": [
    {
     "name": "stdout",
     "output_type": "stream",
     "text": [
      "Christopher Brooks live in Ann Arbor, MI, USA and works in the department School of Information\n"
     ]
    }
   ],
   "source": [
    "person = Person()\n",
    "person.set_name('Christopher Brooks')\n",
    "person.set_location('Ann Arbor, MI, USA')\n",
    "print('{} live in {} and works in the department {}'.format(person.name, person.location, person.department))"
   ]
  },
  {
   "cell_type": "code",
   "execution_count": 22,
   "metadata": {},
   "outputs": [
    {
     "data": {
      "text/plain": [
       "2.34"
      ]
     },
     "execution_count": 22,
     "metadata": {},
     "output_type": "execute_result"
    }
   ],
   "source": [
    "store1 = [10.00, 11.00, 12.34, 2.34]\n",
    "store2 = [9.00, 13.21, 3.12, 7.11]\n",
    "cheapest = min(store1 + store2)\n",
    "cheapest"
   ]
  },
  {
   "cell_type": "code",
   "execution_count": 2,
   "metadata": {},
   "outputs": [
    {
     "data": {
      "text/plain": [
       "['Dr. Brooks', 'Dr. Collins-Thompson', 'Dr. Vydiswaran', 'Dr. Romero']"
      ]
     },
     "execution_count": 2,
     "metadata": {},
     "output_type": "execute_result"
    }
   ],
   "source": [
    "people = ['Dr. Christopher Brooks', 'Dr. Kevyn Collins-Thompson', 'Dr. VG Vinod Vydiswaran', 'Dr. Daniel Romero']\n",
    "\n",
    "list(map(lambda person: person.split()[0] + ' ' + person.split()[-1], people))"
   ]
  },
  {
   "cell_type": "code",
   "execution_count": 15,
   "metadata": {
    "collapsed": true
   },
   "outputs": [
    {
     "data": {
      "text/plain": [
       "[0,\n",
       " 0,\n",
       " 0,\n",
       " 0,\n",
       " 0,\n",
       " 0,\n",
       " 0,\n",
       " 0,\n",
       " 0,\n",
       " 0,\n",
       " 0,\n",
       " 1,\n",
       " 2,\n",
       " 3,\n",
       " 4,\n",
       " 5,\n",
       " 6,\n",
       " 7,\n",
       " 8,\n",
       " 9,\n",
       " 0,\n",
       " 2,\n",
       " 4,\n",
       " 6,\n",
       " 8,\n",
       " 10,\n",
       " 12,\n",
       " 14,\n",
       " 16,\n",
       " 18,\n",
       " 0,\n",
       " 3,\n",
       " 6,\n",
       " 9,\n",
       " 12,\n",
       " 15,\n",
       " 18,\n",
       " 21,\n",
       " 24,\n",
       " 27,\n",
       " 0,\n",
       " 4,\n",
       " 8,\n",
       " 12,\n",
       " 16,\n",
       " 20,\n",
       " 24,\n",
       " 28,\n",
       " 32,\n",
       " 36,\n",
       " 0,\n",
       " 5,\n",
       " 10,\n",
       " 15,\n",
       " 20,\n",
       " 25,\n",
       " 30,\n",
       " 35,\n",
       " 40,\n",
       " 45,\n",
       " 0,\n",
       " 6,\n",
       " 12,\n",
       " 18,\n",
       " 24,\n",
       " 30,\n",
       " 36,\n",
       " 42,\n",
       " 48,\n",
       " 54,\n",
       " 0,\n",
       " 7,\n",
       " 14,\n",
       " 21,\n",
       " 28,\n",
       " 35,\n",
       " 42,\n",
       " 49,\n",
       " 56,\n",
       " 63,\n",
       " 0,\n",
       " 8,\n",
       " 16,\n",
       " 24,\n",
       " 32,\n",
       " 40,\n",
       " 48,\n",
       " 56,\n",
       " 64,\n",
       " 72,\n",
       " 0,\n",
       " 9,\n",
       " 18,\n",
       " 27,\n",
       " 36,\n",
       " 45,\n",
       " 54,\n",
       " 63,\n",
       " 72,\n",
       " 81]"
      ]
     },
     "execution_count": 15,
     "metadata": {},
     "output_type": "execute_result"
    }
   ],
   "source": [
    "[j*i for i in range(10) for j in range(10)]\n"
   ]
  },
  {
   "cell_type": "markdown",
   "metadata": {},
   "source": [
    "# List Comprehension"
   ]
  },
  {
   "cell_type": "code",
   "execution_count": 19,
   "metadata": {
    "scrolled": true
   },
   "outputs": [
    {
     "name": "stdout",
     "output_type": "stream",
     "text": [
      "[0, 1, 4, 9, 16, 25, 36, 49, 64, 81, 100, 121, 144, 169, 196, 225, 256, 289, 324, 361, 400, 441, 484, 529, 576, 625, 676, 729, 784, 841, 900, 961, 1024, 1089, 1156, 1225, 1296, 1369, 1444, 1521, 1600, 1681, 1764, 1849, 1936, 2025, 2116, 2209, 2304, 2401, 2500, 2601, 2704, 2809, 2916, 3025, 3136, 3249, 3364, 3481, 3600, 3721, 3844, 3969, 4096, 4225, 4356, 4489, 4624, 4761, 4900, 5041, 5184, 5329, 5476, 5625, 5776, 5929, 6084, 6241, 6400, 6561, 6724, 6889, 7056, 7225, 7396, 7569, 7744, 7921, 8100, 8281, 8464, 8649, 8836, 9025, 9216, 9409, 9604, 9801, 10000]\n"
     ]
    }
   ],
   "source": [
    "squares = [i**2 for i in range (101)]\n",
    "print(squares)"
   ]
  },
  {
   "cell_type": "code",
   "execution_count": 30,
   "metadata": {},
   "outputs": [
    {
     "name": "stdout",
     "output_type": "stream",
     "text": [
      "['Gandhi', 'Gone with the Wind', 'Gattaca', 'Ghostbusters', 'Good Will Hunting', 'Groundhog Day']\n",
      "['Gandhi', 'Gone with the Wind', 'Gattaca', 'Ghostbusters', 'Good Will Hunting', 'Groundhog Day']\n"
     ]
    }
   ],
   "source": [
    "movies = ['Star Wars', 'Gandhi', 'Casablanca', 'Shawshank Redemption', 'Toy Story', 'Gone with the Wind', 'Citizen Kane', 'Its a wonderful Life', 'The Wizard of Oz', 'Gattaca', 'Rear Window', 'Ghostbusters', 'To Kill a Mockingbird', 'Good Will Hunting', '2001: A Space Odyssey', 'Raiders of the Lost Ark','Groundhog Day', 'Close Encounters of the Third Kind']\n",
    "\n",
    "\n",
    "#option one: w/o list comprehension\n",
    "gmovies1 = []\n",
    "for movie in movies:\n",
    "    if movie.startswith('G'):\n",
    "        gmovies1.append(movie)\n",
    "print(gmovies1)\n",
    "\n",
    "\n",
    "#option two: with list comprehension\n",
    "gmovies2 = [movie for movie in movies if movie.startswith('G')]\n",
    "print(gmovies2)"
   ]
  },
  {
   "cell_type": "markdown",
   "metadata": {},
   "source": [
    "# Task： Find movies released before 2000"
   ]
  },
  {
   "cell_type": "code",
   "execution_count": 36,
   "metadata": {},
   "outputs": [
    {
     "name": "stdout",
     "output_type": "stream",
     "text": [
      "['Star Wars', 'Casablanca', 'Shawshank Redemption', 'Gone with the Wind', 'Its a wonderful Life', 'The Wizard of Oz', 'Gattaca', 'Rear Window', 'Ghostbusters', 'Good Will Hunting', '2001: A Space Odyssey', 'Raiders of the Lost Ark']\n",
      "[('Star Wars', 1941), ('Casablanca', 1946), ('Shawshank Redemption', 1997), ('Gone with the Wind', 1954), ('Its a wonderful Life', 1993), ('The Wizard of Oz', 1993), ('Gattaca', 1977), ('Rear Window', 1987), ('Ghostbusters', 1969), ('Good Will Hunting', 1981), ('2001: A Space Odyssey', 1972), ('Raiders of the Lost Ark', 1988)]\n"
     ]
    }
   ],
   "source": [
    "movies = [('Star Wars', 1941), ('Gandhi', 2001), ('Casablanca', 1946), ('Shawshank Redemption', 1997), ('Toy Story', 2007), ('Gone with the Wind', 1954), ('Citizen Kane', 2001), ('Its a wonderful Life', 1993), ('The Wizard of Oz', 1993), ('Gattaca', 1977), ('Rear Window', 1987), ('Ghostbusters', 1969), ('To Kill a Mockingbird', 2010), ('Good Will Hunting', 1981), ('2001: A Space Odyssey', 1972), ('Raiders of the Lost Ark', 1988), ('Groundhog Day', 2006), ('Close Encounters of the Third Kind', 2004)]\n",
    "\n",
    "\n",
    "#option 1： w/o list comprehension\n",
    "movies_2000=[]\n",
    "for title, year in movies:\n",
    "    if year < 2000:\n",
    "        movies_2000.append(title)\n",
    "print(movies_2000)\n",
    "\n",
    "#option 2: with list comprehension\n",
    "movies_2000 = [(title, year) for (title, year) in movies if year < 2000]\n",
    "print(movies_2000)"
   ]
  }
 ],
 "metadata": {
  "kernelspec": {
   "display_name": "Python 3",
   "language": "python",
   "name": "python3"
  },
  "language_info": {
   "codemirror_mode": {
    "name": "ipython",
    "version": 3
   },
   "file_extension": ".py",
   "mimetype": "text/x-python",
   "name": "python",
   "nbconvert_exporter": "python",
   "pygments_lexer": "ipython3",
   "version": "3.7.3"
  }
 },
 "nbformat": 4,
 "nbformat_minor": 2
}
